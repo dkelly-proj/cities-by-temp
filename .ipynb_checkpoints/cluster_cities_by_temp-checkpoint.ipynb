{
 "cells": [
  {
   "cell_type": "markdown",
   "metadata": {},
   "source": [
    "### Import modules"
   ]
  },
  {
   "cell_type": "code",
   "execution_count": 1,
   "metadata": {},
   "outputs": [],
   "source": [
    "import pandas as pd\n",
    "import requests"
   ]
  },
  {
   "cell_type": "markdown",
   "metadata": {},
   "source": [
    "### Get data from wikipedia"
   ]
  },
  {
   "cell_type": "code",
   "execution_count": 13,
   "metadata": {},
   "outputs": [],
   "source": [
    "url = 'https://en.wikipedia.org/wiki/List_of_cities_by_average_temperature'\n",
    "\n",
    "data = pd.concat(pd.read_html(requests.get(url).content)).reset_index(drop = True)"
   ]
  },
  {
   "cell_type": "markdown",
   "metadata": {},
   "source": [
    "### Clean and organize data"
   ]
  },
  {
   "cell_type": "code",
   "execution_count": 50,
   "metadata": {},
   "outputs": [
    {
     "name": "stdout",
     "output_type": "stream",
     "text": [
      "                        City   Min   Max\n",
      "0         Abha, Saudi Arabia    55    73\n",
      "1       Abidjan, Ivory Coast    75    82\n",
      "2               Abéché, Chad  78.6  91.9\n",
      "3               Accra, Ghana  75.7  81.9\n",
      "4      Addis Ababa, Ethiopia    59    64\n",
      "..                       ...   ...   ...\n",
      "409          Zagreb, Croatia  32.5  69.1\n",
      "410  Zanzibar City, Tanzania    75    82\n",
      "411      Zürich, Switzerland  32.5  65.5\n",
      "412            Ürümqi, China  10.2  75.0\n",
      "413            İzmir, Turkey  48.0  82.4\n",
      "\n",
      "[414 rows x 3 columns]\n"
     ]
    }
   ],
   "source": [
    "df = (data\n",
    "          .melt(id_vars = ['Country', 'City'], value_vars = ['Jan', 'Feb', 'Mar', 'Apr',\n",
    "                                                             'May', 'Jun', 'Jul', 'Aug',\n",
    "                                                             'Sep', 'Oct', 'Nov', 'Dec'],\n",
    "                var_name = 'Month', value_name = 'Temp_String'))\n",
    "\n",
    "df['Temp_F'] = df.Temp_String.str.split(pat = '(', expand = True)[1].str.split(pat = ')', expand = True)[0]\n",
    "df['City'] = df['City'] + ', ' + df['Country']\n",
    "\n",
    "df = (df\n",
    "          .filter(items = ['City', 'Temp_F'])\n",
    "          .groupby(['City'])\n",
    "          .agg(['min', 'max'])\n",
    "          .reset_index()\n",
    "          .droplevel(0, axis = 1))\n",
    "\n",
    "df.columns = ['City', 'Min', 'Max']"
   ]
  },
  {
   "cell_type": "code",
   "execution_count": null,
   "metadata": {},
   "outputs": [],
   "source": [
    "print(df)"
   ]
  }
 ],
 "metadata": {
  "kernelspec": {
   "display_name": "Python 3",
   "language": "python",
   "name": "python3"
  },
  "language_info": {
   "codemirror_mode": {
    "name": "ipython",
    "version": 3
   },
   "file_extension": ".py",
   "mimetype": "text/x-python",
   "name": "python",
   "nbconvert_exporter": "python",
   "pygments_lexer": "ipython3",
   "version": "3.7.1"
  }
 },
 "nbformat": 4,
 "nbformat_minor": 2
}
