{
 "cells": [
  {
   "cell_type": "markdown",
   "metadata": {},
   "source": [
    "### Import modules"
   ]
  },
  {
   "cell_type": "code",
   "execution_count": null,
   "metadata": {},
   "outputs": [],
   "source": [
    "import matplotlib.pyplot as plt\n",
    "import numpy as np\n",
    "import pandas as pd\n",
    "from PIL import Image\n",
    "import requests\n",
    "from sklearn.cluster import KMeans"
   ]
  },
  {
   "cell_type": "markdown",
   "metadata": {},
   "source": [
    "### Get data from wikipedia"
   ]
  },
  {
   "cell_type": "code",
   "execution_count": null,
   "metadata": {},
   "outputs": [],
   "source": [
    "url = 'https://en.wikipedia.org/wiki/List_of_cities_by_average_temperature'\n",
    "\n",
    "data = pd.concat(pd.read_html(requests.get(url).content)).reset_index(drop = True)"
   ]
  },
  {
   "cell_type": "markdown",
   "metadata": {},
   "source": [
    "### Clean and organize data"
   ]
  },
  {
   "cell_type": "code",
   "execution_count": null,
   "metadata": {},
   "outputs": [],
   "source": [
    "df = (data\n",
    "          .melt(id_vars = ['Country', 'City'], value_vars = ['Jan', 'Feb', 'Mar', 'Apr',\n",
    "                                                             'May', 'Jun', 'Jul', 'Aug',\n",
    "                                                             'Sep', 'Oct', 'Nov', 'Dec'],\n",
    "                var_name = 'Month', value_name = 'Temp_String'))\n",
    "\n",
    "df['Temp_F'] = df.Temp_String.str.split(pat = '(', expand = True)[1].str.split(pat = ')', expand = True)[0]\n",
    "df['City'] = df['City'] + ', ' + df['Country']\n",
    "df['Temp_F'] = pd.to_numeric(df['Temp_F'], errors = 'coerce')\n",
    "\n",
    "df = (df\n",
    "          .filter(items = ['City', 'Temp_F'])\n",
    "          .groupby(['City'])\n",
    "          .agg(['min', 'max'])\n",
    "          .reset_index()\n",
    "          .droplevel(0, axis = 1)\n",
    "          .query('min == min and max == max'))\n",
    "\n",
    "df.columns = ['City', 'Min', 'Max']"
   ]
  },
  {
   "cell_type": "code",
   "execution_count": null,
   "metadata": {},
   "outputs": [],
   "source": [
    "print(df)"
   ]
  },
  {
   "cell_type": "markdown",
   "metadata": {},
   "source": [
    "### Identify optimal number of clusters for K Means"
   ]
  },
  {
   "cell_type": "code",
   "execution_count": null,
   "metadata": {},
   "outputs": [],
   "source": [
    "temp_pairs = np.array(df[['Min', 'Max']])\n",
    "\n",
    "wcss = []\n",
    "\n",
    "for i in range(1, 11):\n",
    "    kmeans = KMeans(n_clusters = i, init = 'k-means++', max_iter = 300, n_init = 10, random_state = 0)\n",
    "    kmeans.fit(temp_pairs)\n",
    "    wcss.append(kmeans.inertia_)\n",
    "    \n",
    "plt.plot(range(1,11), wcss)\n",
    "plt.title('Elbow WCSS')\n",
    "plt.xlabel('Clusters')\n",
    "plt.ylabel('WCSS')\n",
    "plt.show()"
   ]
  },
  {
   "cell_type": "code",
   "execution_count": null,
   "metadata": {},
   "outputs": [],
   "source": [
    "wcss_per = [(wcss[i] - wcss[i-1])/wcss[i-1] for i in range(1,10)]\n",
    "print(pd.Series(wcss_per))\n",
    "\n",
    "clusters = int(input('How many clusters should we use?: '))"
   ]
  },
  {
   "cell_type": "markdown",
   "metadata": {},
   "source": [
    "### Assign clusters"
   ]
  },
  {
   "cell_type": "code",
   "execution_count": null,
   "metadata": {},
   "outputs": [],
   "source": [
    "kmeans = KMeans(n_clusters = clusters, init = 'k-means++', max_iter = 300, n_init = 10, random_state = 0)\n",
    "df['Cluster'] = kmeans.fit_predict(temp_pairs)"
   ]
  },
  {
   "cell_type": "markdown",
   "metadata": {},
   "source": [
    "### Plot"
   ]
  },
  {
   "cell_type": "code",
   "execution_count": null,
   "metadata": {},
   "outputs": [],
   "source": [
    "palette = ['red', 'blue', 'green', 'yellow', 'black', 'orange', 'purple']\n",
    "\n",
    "plt.figure(figsize = (20,10))\n",
    "\n",
    "for i in range(0, max(df['Cluster']) + 1):\n",
    "    plt.scatter(df[df['Cluster'] == i]['Min'], df[df['Cluster'] == i]['Max'], c = palette[i], s = 300)\n",
    "\n",
    "plt.title('Cities Clustered by Highest and Lowest Monthly Average Temperatures Fahrenheit')\n",
    "plt.xlabel('Lowest Monthly Average Temperature')\n",
    "plt.ylabel('Highest Monthly Average Temperature')\n",
    "plt.savefig('City_Temp_Clusters.png')"
   ]
  },
  {
   "cell_type": "markdown",
   "metadata": {},
   "source": [
    "### Open and view plot"
   ]
  },
  {
   "cell_type": "code",
   "execution_count": null,
   "metadata": {},
   "outputs": [],
   "source": [
    "img = Image.open('City_Temp_Clusters.png')\n",
    "img.show()"
   ]
  }
 ],
 "metadata": {
  "kernelspec": {
   "display_name": "Python 3",
   "language": "python",
   "name": "python3"
  },
  "language_info": {
   "codemirror_mode": {
    "name": "ipython",
    "version": 3
   },
   "file_extension": ".py",
   "mimetype": "text/x-python",
   "name": "python",
   "nbconvert_exporter": "python",
   "pygments_lexer": "ipython3",
   "version": "3.7.1"
  }
 },
 "nbformat": 4,
 "nbformat_minor": 2
}
